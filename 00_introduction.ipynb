{
 "cells": [
  {
   "cell_type": "markdown",
   "id": "geographic-terrorism",
   "metadata": {},
   "source": [
    "# High Throughput Computing with Dask\n",
    "\n",
    "---\n",
    "\n",
    "Sarath Menon  \n",
    "AMS group meeting  \n",
    "15 Feb 2021  \n",
    "\n",
    "---"
   ]
  },
  {
   "cell_type": "markdown",
   "id": "continued-infrastructure",
   "metadata": {},
   "source": [
    "These notebooks are inspired by, and borrows from a number of people:\n",
    "\n",
    "- Jacob Tomlinson, NVIDIA\n",
    "- David Swenson, École Normal Supérieure de Lyon\n",
    "- Alan O'Cais, Forschungszentrum Jülich\n",
    "- Official Dask documentation/examples\n",
    "\n",
    "---"
   ]
  },
  {
   "cell_type": "markdown",
   "id": "experienced-forge",
   "metadata": {},
   "source": [
    "## Task based computation\n",
    "\n",
    "- Computers are scaling, more number of cores\n",
    "- Separate workflow into individual, interdependent tasks\n",
    "- For each task, we need to know:\n",
    "    - which tasks it depends on\n",
    "    - which tasks it conflicts with\n",
    "- Whatever scripts you use at the moment could benefit from task based computing\n",
    "- For example, most for loops?"
   ]
  },
  {
   "cell_type": "markdown",
   "id": "russian-waters",
   "metadata": {},
   "source": [
    "### What's Dask?\n",
    "\n",
    "- A library for task based computing\n",
    "- A python library developed with two main issues in mind:\n",
    "  - larger datasets (which don't fit in memory) and\n",
    "  - multiple processes (which could be on multiple nodes)\n",
    "  "
   ]
  },
  {
   "cell_type": "markdown",
   "id": "palestinian-concept",
   "metadata": {},
   "source": [
    "### Why Dask?\n",
    "\n",
    "- Familiar API consistent with Numpy, Scipy and Pandas\n",
    "- Scale out calculations to clusters\n",
    "- Scale down to single computers\n",
    "- Responsive feedback from calculations\n",
    "\n",
    "---"
   ]
  },
  {
   "cell_type": "code",
   "execution_count": null,
   "id": "solid-imperial",
   "metadata": {},
   "outputs": [],
   "source": []
  },
  {
   "cell_type": "code",
   "execution_count": null,
   "id": "recorded-darwin",
   "metadata": {},
   "outputs": [],
   "source": []
  },
  {
   "cell_type": "code",
   "execution_count": null,
   "id": "enhanced-trade",
   "metadata": {},
   "outputs": [],
   "source": []
  },
  {
   "cell_type": "code",
   "execution_count": null,
   "id": "heard-straight",
   "metadata": {},
   "outputs": [],
   "source": []
  },
  {
   "cell_type": "markdown",
   "id": "round-setting",
   "metadata": {},
   "source": [
    "## Final thoughts\n",
    "\n",
    "- Dask is easy to use, and enables task based computation\n",
    "- If you use for loops, you mostly can benefit from task based computation\n",
    "- It is easy to scale up and down"
   ]
  }
 ],
 "metadata": {
  "kernelspec": {
   "display_name": "Python 3",
   "language": "python",
   "name": "python3"
  },
  "language_info": {
   "codemirror_mode": {
    "name": "ipython",
    "version": 3
   },
   "file_extension": ".py",
   "mimetype": "text/x-python",
   "name": "python",
   "nbconvert_exporter": "python",
   "pygments_lexer": "ipython3",
   "version": "3.8.6"
  }
 },
 "nbformat": 4,
 "nbformat_minor": 5
}
