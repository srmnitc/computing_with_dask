{
 "cells": [
  {
   "cell_type": "markdown",
   "id": "starting-workshop",
   "metadata": {},
   "source": [
    "# Applications in computational materials science\n",
    "\n",
    "- Task based computing can also be applied into our regular workflows\n",
    "- Calculation of energy, most analysis tasks can be parallelized in a task based manner\n",
    "- In this example, LAMMPS is combined with Dask for some simple calculations"
   ]
  },
  {
   "cell_type": "markdown",
   "id": "classified-trinity",
   "metadata": {},
   "source": [
    "Import necessary modules"
   ]
  },
  {
   "cell_type": "code",
   "execution_count": null,
   "id": "matched-syria",
   "metadata": {},
   "outputs": [],
   "source": [
    "import numpy as np\n",
    "from lammps import lammps\n",
    "from dask import delayed\n",
    "from dask.distributed import Client\n",
    "from ase.io import read, write\n",
    "from ase.build import bulk\n",
    "import matplotlib.pyplot as plt\n",
    "import dask\n",
    "import os\n",
    "import warnings\n",
    "warnings.filterwarnings(\"ignore\")"
   ]
  },
  {
   "cell_type": "markdown",
   "id": "banner-borough",
   "metadata": {},
   "source": [
    "## EV curves using Cu EAM potential"
   ]
  },
  {
   "cell_type": "markdown",
   "id": "prompt-fields",
   "metadata": {},
   "source": [
    "A function to calculate the lattice constant at 0 pressure using a copper EAM potential. The LAMMPS python library is used for the calculations "
   ]
  },
  {
   "cell_type": "code",
   "execution_count": null,
   "id": "premier-rebound",
   "metadata": {},
   "outputs": [],
   "source": [
    "def find_alat(structure):\n",
    "    #create lammps object\n",
    "    lmp = lammps()\n",
    "    \n",
    "    #set units, boundary conditions\n",
    "    lmp.command(\"echo log\")\n",
    "    lmp.command(\"units metal\")\n",
    "    lmp.command(\"atom_style atomic\")\n",
    "    lmp.command(\"boundary p p p\")\n",
    "    \n",
    "    #create lattice\n",
    "    lmp.command(\"lattice %s %d\"%(structure, 4.0))\n",
    "    lmp.command(\"region box block 0 2 0 2 0 2\")\n",
    "    lmp.command(\"create_box 1 box\")\n",
    "    lmp.command(\"create_atoms 1 box\")\n",
    "    lmp.command(\"mass * 63.546\")\n",
    "    \n",
    "    #set the potential\n",
    "    lmp.command(\"pair_style eam/alloy\")\n",
    "    lmp.command(\"pair_coeff * * Cu01.eam.alloy Cu\")\n",
    "    \n",
    "    #relax the box\n",
    "    lmp.command(\"fix 1 all box/relax iso 0. vmax 0.0001 nreset 1\")\n",
    "    lmp.command(\"minimize 1.0e-8 1.0e-8 100000000 100000000\")\n",
    "    \n",
    "    #get the lattice constant\n",
    "    lat= (lmp.get_thermo(\"vol\")/(2*2*2))**(1/3)\n",
    "    lmp.close()\n",
    "    return lat"
   ]
  },
  {
   "cell_type": "markdown",
   "id": "rolled-musical",
   "metadata": {},
   "source": [
    "Now another function to calculate the rigid energy at the required lattice constant."
   ]
  },
  {
   "cell_type": "code",
   "execution_count": null,
   "id": "functioning-bulgaria",
   "metadata": {},
   "outputs": [],
   "source": [
    "def calculate_energy(structure, lattice_constant):\n",
    "    #create lammps object\n",
    "    lmp = lammps()\n",
    "    \n",
    "    #set up units, boundary\n",
    "    lmp.command(\"echo log\")\n",
    "    lmp.command(\"units metal\")\n",
    "    lmp.command(\"atom_style atomic\")\n",
    "    lmp.command(\"boundary p p p\")\n",
    "    \n",
    "    #create lattice\n",
    "    lmp.command(\"lattice %s %f\"%(structure, lattice_constant))\n",
    "    lmp.command(\"region box block 0 2 0 2 0 2\")\n",
    "    lmp.command(\"create_box 1 box\")\n",
    "    lmp.command(\"create_atoms 1 box\")\n",
    "    lmp.command(\"mass * 63.546\")\n",
    "    \n",
    "    #set up potential\n",
    "    lmp.command(\"pair_style eam/alloy\")\n",
    "    lmp.command(\"pair_coeff * * Cu01.eam.alloy Cu\")\n",
    "    \n",
    "    #calculate energy\n",
    "    lmp.command(\"run 0\")\n",
    "    \n",
    "    #get cohesive energy\n",
    "    ecoh = lmp.get_thermo(\"pe\")/lmp.get_natoms()\n",
    "    return ecoh"
   ]
  },
  {
   "cell_type": "markdown",
   "id": "alternative-badge",
   "metadata": {},
   "source": [
    "Lets test the function"
   ]
  },
  {
   "cell_type": "code",
   "execution_count": null,
   "id": "subject-reading",
   "metadata": {},
   "outputs": [],
   "source": [
    "calculate_energy(\"fcc\", 3.5)"
   ]
  },
  {
   "cell_type": "markdown",
   "id": "multiple-ukraine",
   "metadata": {},
   "source": [
    "Find lattice constant for fcc structure"
   ]
  },
  {
   "cell_type": "code",
   "execution_count": null,
   "id": "expanded-amendment",
   "metadata": {},
   "outputs": [],
   "source": [
    "fcclat = find_alat(\"fcc\")\n",
    "fcclat"
   ]
  },
  {
   "cell_type": "markdown",
   "id": "disturbed-invasion",
   "metadata": {},
   "source": [
    "Now for bcc"
   ]
  },
  {
   "cell_type": "code",
   "execution_count": null,
   "id": "jewish-sender",
   "metadata": {},
   "outputs": [],
   "source": [
    "bcclat = find_alat(\"bcc\")\n",
    "bcclat"
   ]
  },
  {
   "cell_type": "markdown",
   "id": "coastal-projector",
   "metadata": {},
   "source": [
    "Also simple cubic"
   ]
  },
  {
   "cell_type": "code",
   "execution_count": null,
   "id": "purple-corps",
   "metadata": {},
   "outputs": [],
   "source": [
    "sclat = find_alat(\"sc\")\n",
    "sclat"
   ]
  },
  {
   "cell_type": "markdown",
   "id": "dietary-picking",
   "metadata": {},
   "source": [
    "Now create arrays over +/- 10% of the lattice constant values for each structure"
   ]
  },
  {
   "cell_type": "code",
   "execution_count": null,
   "id": "rocky-style",
   "metadata": {},
   "outputs": [],
   "source": [
    "bcc_alats = np.linspace(.9*bcclat, 1.1*bcclat, 10)\n",
    "fcc_alats = np.linspace(.9*fcclat, 1.1*fcclat, 10)\n",
    "sc_alats = np.linspace(.9*sclat, 1.1*sclat, 10)"
   ]
  },
  {
   "cell_type": "markdown",
   "id": "multiple-celebration",
   "metadata": {},
   "source": [
    "In general, we would loop over each lattice constant array and then calculate the energy. But remember, for loops are an excellent choice for task based parallelisation."
   ]
  },
  {
   "cell_type": "markdown",
   "id": "alleged-sample",
   "metadata": {},
   "source": [
    "Create a local cluster"
   ]
  },
  {
   "cell_type": "code",
   "execution_count": null,
   "id": "inappropriate-lobby",
   "metadata": {},
   "outputs": [],
   "source": [
    "from dask.distributed import Client, progress\n",
    "client = Client(threads_per_worker=1, n_workers=2)\n",
    "client"
   ]
  },
  {
   "cell_type": "markdown",
   "id": "southern-domain",
   "metadata": {},
   "source": [
    "Submit the calculations: The `client.map` method will be used. It maps the required function over a number of arguments. "
   ]
  },
  {
   "cell_type": "code",
   "execution_count": null,
   "id": "straight-memorabilia",
   "metadata": {},
   "outputs": [],
   "source": [
    "future_fcc = client.map(calculate_energy, \n",
    "                        [\"fcc\" for x in range(len(fcc_alats))],\n",
    "                        fcc_alats)"
   ]
  },
  {
   "cell_type": "markdown",
   "id": "figured-composite",
   "metadata": {},
   "source": [
    "The `future_fcc` object is not yet a result, but a promise of one."
   ]
  },
  {
   "cell_type": "code",
   "execution_count": null,
   "id": "advance-frequency",
   "metadata": {},
   "outputs": [],
   "source": [
    "future_fcc[0]"
   ]
  },
  {
   "cell_type": "markdown",
   "id": "endangered-response",
   "metadata": {},
   "source": [
    "We can do the same for bcc and hcp"
   ]
  },
  {
   "cell_type": "code",
   "execution_count": null,
   "id": "naval-virginia",
   "metadata": {},
   "outputs": [],
   "source": [
    "future_bcc = client.map(calculate_energy, \n",
    "                        [\"bcc\" for x in range(len(bcc_alats))],\n",
    "                        bcc_alats)"
   ]
  },
  {
   "cell_type": "code",
   "execution_count": null,
   "id": "above-rachel",
   "metadata": {},
   "outputs": [],
   "source": [
    "future_sc = client.map(calculate_energy, \n",
    "                        [\"sc\" for x in range(len(sc_alats))],\n",
    "                        sc_alats)"
   ]
  },
  {
   "cell_type": "markdown",
   "id": "recreational-crack",
   "metadata": {},
   "source": [
    "`client.gather` method can be used to gather the results."
   ]
  },
  {
   "cell_type": "code",
   "execution_count": null,
   "id": "extensive-confusion",
   "metadata": {},
   "outputs": [],
   "source": [
    "efcc = client.gather(future_fcc)\n",
    "ebcc = client.gather(future_bcc)\n",
    "esc = client.gather(future_sc)"
   ]
  },
  {
   "cell_type": "markdown",
   "id": "sharing-female",
   "metadata": {},
   "source": [
    "Finally plot"
   ]
  },
  {
   "cell_type": "code",
   "execution_count": null,
   "id": "respective-morris",
   "metadata": {},
   "outputs": [],
   "source": [
    "plt.plot((fcc_alats)**3/4, efcc, 'o-', color=\"#EF6C00\", label=\"fcc\")\n",
    "plt.plot((bcc_alats)**3/2, ebcc, 'o-', color=\"#AD1457\", label=\"bcc\")\n",
    "plt.plot((sc_alats)**3, esc, 'o-', color=\"#311B92\", label=\"sc\")\n",
    "plt.legend()\n",
    "plt.xlabel(\"vol/atom $\\mathrm{\\AA^3}$\")\n",
    "plt.ylabel(\"E (eV)\")"
   ]
  },
  {
   "cell_type": "markdown",
   "id": "bottom-venice",
   "metadata": {},
   "source": [
    "What happens if we recalculate one of the arrays"
   ]
  },
  {
   "cell_type": "code",
   "execution_count": null,
   "id": "charming-roommate",
   "metadata": {},
   "outputs": [],
   "source": [
    "future_sc = client.map(calculate_energy, \n",
    "                        [\"sc\" for x in range(len(sc_alats))],\n",
    "                        sc_alats)"
   ]
  },
  {
   "cell_type": "markdown",
   "id": "featured-entertainment",
   "metadata": {},
   "source": [
    "Nothing happened in the progress bar! Dask assumes functions are pure - if the function and arguments are same, the result must be same. Hence it does not recalculate. However, you can turn off the pure behaviour."
   ]
  },
  {
   "cell_type": "code",
   "execution_count": null,
   "id": "flying-monroe",
   "metadata": {},
   "outputs": [],
   "source": [
    "future_sc = client.map(calculate_energy, \n",
    "                        [\"sc\" for x in range(len(sc_alats))],\n",
    "                        sc_alats, pure=False)"
   ]
  },
  {
   "cell_type": "code",
   "execution_count": null,
   "id": "classified-filter",
   "metadata": {},
   "outputs": [],
   "source": [
    "client.restart()"
   ]
  },
  {
   "cell_type": "markdown",
   "id": "veterinary-treasurer",
   "metadata": {},
   "source": [
    "Now the calculations were executed again."
   ]
  },
  {
   "cell_type": "markdown",
   "id": "logical-assignment",
   "metadata": {},
   "source": [
    "## Parameter phase-diagram for a simple potential"
   ]
  },
  {
   "cell_type": "markdown",
   "id": "neither-address",
   "metadata": {},
   "source": [
    "A Stillinger-Weber potential is explored here. The total energy in the framework of SW can be given by,\n",
    "\n",
    "$$\n",
    "E = \\sum_i\\sum_{j>i} \\phi_2(r_{ij}) + \\sum_i\\sum_{j\\neq i}\\sum_{k> j} \\phi_3(r_{ij}, r_{ik}, \\theta_{ijk})\n",
    "$$\n",
    "\n",
    "Where  $\\phi_2$ is,\n",
    "\n",
    "$$\n",
    "\\phi_2(r_{ij}) = U^R(r_{ij}) - U^A(r_{ij})\n",
    "$$\n",
    "\n",
    "$U^R$ is the repulsion and $U^A$ is the attractive term.\n",
    "\n",
    "$$\n",
    "U^R(r_{ij}) = A_{ij} B_{ij} \\epsilon_{ij} \\bigg( \\frac{\\sigma_{ij}}{r_{ij}} \\bigg)^{p_{ij}} \\exp \\bigg( \\frac{\\sigma_{ij}}{r_{ij} - a_{ij} \\sigma_{ij}} \\bigg)\n",
    "$$\n",
    "$$\n",
    "U^A(r_{ij}) = A_{ij} \\epsilon_{ij} \\bigg( \\frac{\\sigma_{ij}}{r_{ij}} \\bigg)^{q_{ij}} \\exp \\bigg( \\frac{\\sigma_{ij}}{r_{ij} - a_{ij} \\sigma_{ij}} \\bigg)\n",
    "$$\n"
   ]
  },
  {
   "cell_type": "markdown",
   "id": "peaceful-mexican",
   "metadata": {},
   "source": [
    "In addition, SW potential has a three body contribution designed to stabilize the diamond structure:\n",
    "\n",
    "$$\n",
    "\\phi_3(r_{ij}, r_{ik}, \\theta_{ijk}) = \n",
    "    \\phi_{ijk}\n",
    "    \\exp \\bigg( \\frac{\\gamma_{ij} \\sigma_{ij}}{r_{ij} - a_{ij} \\sigma_{ij}} \\bigg) \n",
    "    \\exp \\bigg( \\frac{\\gamma_{ik} \\sigma_{ik}}{r_{ik} - a_{ik} \\sigma_{ik} }\\bigg)\n",
    "$$\n",
    "\n",
    "where $\\phi_{ijk}$ is given by,\n",
    "\n",
    "$$\n",
    "\\phi_{ijk} = \\lambda_{ijk} \\epsilon_{ijk} [\\cos\\theta_{ijk} - \\cos\\theta_{0ijk}]^2\n",
    "$$\n",
    "\n",
    "It penalises the non-tetrahedral angle"
   ]
  },
  {
   "cell_type": "markdown",
   "id": "tired-sensitivity",
   "metadata": {},
   "source": [
    "### Explore the relative structural stability with potenatial parameters"
   ]
  },
  {
   "cell_type": "markdown",
   "id": "southwest-diesel",
   "metadata": {},
   "source": [
    "A small script to write SW potential files for LAMMPS with the given parameters is used."
   ]
  },
  {
   "cell_type": "code",
   "execution_count": null,
   "id": "attached-planet",
   "metadata": {},
   "outputs": [],
   "source": [
    "from sw import Sw"
   ]
  },
  {
   "cell_type": "markdown",
   "id": "turkish-community",
   "metadata": {},
   "source": [
    "Now a function to relax the structure and calculate the energy is defined"
   ]
  },
  {
   "cell_type": "code",
   "execution_count": null,
   "id": "synthetic-expert",
   "metadata": {},
   "outputs": [],
   "source": [
    "def get_energy(l, b, structure, alat):\n",
    "    #create the SW class and write a potential file\n",
    "    sw = Sw(\"Si\", lmbda=l, B=b)\n",
    "    potfile = \"sw-%f-%f.sw\"%(l, b)\n",
    "    sw.write(potfile)\n",
    "    \n",
    "    #create lammps object, set units and boundary\n",
    "    lmp = lammps()\n",
    "    lmp.command(\"echo log\")\n",
    "    lmp.command(\"units metal\")\n",
    "    lmp.command(\"atom_style atomic\")\n",
    "    lmp.command(\"boundary p p p\")\n",
    "    \n",
    "    #create lattice\n",
    "    lmp.command(\"lattice %s %d\"%(structure, alat))\n",
    "    lmp.command(\"region box block 0 2 0 2 0 2\")\n",
    "    lmp.command(\"create_box 1 box\")\n",
    "    lmp.command(\"create_atoms 1 box\")\n",
    "    lmp.command(\"mass * 28\")\n",
    "    \n",
    "    #set up the potential\n",
    "    lmp.command(\"pair_style sw\")\n",
    "    lmp.command(\"pair_coeff * * %s Si\"%potfile)\n",
    "    \n",
    "    #minimise the structure\n",
    "    lmp.command(\"fix 1 all box/relax iso 0. vmax 0.0001 nreset 1\")\n",
    "    lmp.command(\"minimize 1.0e-8 1.0e-8 100000000 100000000\")\n",
    "    lat= (lmp.get_thermo(\"vol\")/(2*2*2))**(1/3)\n",
    "    \n",
    "    #calculate the energy of the relaxed structure\n",
    "    ecoh = lmp.get_thermo(\"pe\")/lmp.get_natoms()\n",
    "    lmp.close()\n",
    "    os.remove(potfile)\n",
    "    return ecoh"
   ]
  },
  {
   "cell_type": "markdown",
   "id": "ruled-spice",
   "metadata": {},
   "source": [
    "The relative stability will be explored over two parameters:\n",
    "\n",
    "- $\\lambda$ : strength of the three-body contribution\n",
    "- $B$ : strength of the repulsive interaction"
   ]
  },
  {
   "cell_type": "markdown",
   "id": "practical-crime",
   "metadata": {},
   "source": [
    "Arrays for $\\lambda$ and $B$:"
   ]
  },
  {
   "cell_type": "code",
   "execution_count": null,
   "id": "accurate-timothy",
   "metadata": {},
   "outputs": [],
   "source": [
    "nlevels = 10\n",
    "lambda_range = np.linspace(10, 30, nlevels)\n",
    "B_range = np.linspace(0.6, 1.0, nlevels)"
   ]
  },
  {
   "cell_type": "markdown",
   "id": "consistent-pipeline",
   "metadata": {},
   "source": [
    "Similar to our previous examples, we will run a for loop - but will not evaluate it. Only a recipe will be created."
   ]
  },
  {
   "cell_type": "code",
   "execution_count": null,
   "id": "universal-message",
   "metadata": {},
   "outputs": [],
   "source": [
    "resfcc = []\n",
    "resdia = []\n",
    "resbcc = []\n",
    "\n",
    "for l in lambda_range:\n",
    "    resbcc.append([delayed (get_energy)(l, b, \"bcc\", 4.0) for b in B_range])\n",
    "    resfcc.append([delayed (get_energy)(l, b, \"fcc\", 4.0) for b in B_range])\n",
    "    resdia.append([delayed (get_energy)(l, b, \"diamond\", 5.4) for b in B_range])"
   ]
  },
  {
   "cell_type": "markdown",
   "id": "opening-exhaust",
   "metadata": {},
   "source": [
    "We do a final delayed to convert it an array"
   ]
  },
  {
   "cell_type": "code",
   "execution_count": null,
   "id": "corporate-access",
   "metadata": {},
   "outputs": [],
   "source": [
    "enfcc = dask.compute(*resfcc)"
   ]
  },
  {
   "cell_type": "markdown",
   "id": "skilled-journey",
   "metadata": {},
   "source": [
    "Compute for the other structures"
   ]
  },
  {
   "cell_type": "code",
   "execution_count": null,
   "id": "composite-fighter",
   "metadata": {},
   "outputs": [],
   "source": [
    "enbcc = dask.compute(*resbcc)\n",
    "endia = dask.compute(*resdia)"
   ]
  },
  {
   "cell_type": "code",
   "execution_count": null,
   "id": "agricultural-costa",
   "metadata": {},
   "outputs": [],
   "source": [
    "client.close()"
   ]
  },
  {
   "cell_type": "markdown",
   "id": "sustained-contract",
   "metadata": {},
   "source": [
    "Take a look at the bcc energy"
   ]
  },
  {
   "cell_type": "code",
   "execution_count": null,
   "id": "handled-exploration",
   "metadata": {},
   "outputs": [],
   "source": [
    "plt.contourf(B_range, lambda_range, enbcc)\n",
    "plt.colorbar()\n",
    "plt.xlabel(\"$B$\", fontsize=12)\n",
    "plt.ylabel(\"$\\lambda$\", fontsize=12)"
   ]
  },
  {
   "cell_type": "markdown",
   "id": "dramatic-brake",
   "metadata": {},
   "source": [
    "Convert to energy differences"
   ]
  },
  {
   "cell_type": "code",
   "execution_count": null,
   "id": "incorrect-denmark",
   "metadata": {},
   "outputs": [],
   "source": [
    "edian = np.array(endia)-np.array(endia)\n",
    "ebccn = np.array(enbcc)-np.array(endia)\n",
    "efccn = np.array(enfcc)-np.array(endia)"
   ]
  },
  {
   "cell_type": "markdown",
   "id": "finished-bishop",
   "metadata": {},
   "source": [
    "At each value of $B$ and $\\lambda$, find which structure has the least energy"
   ]
  },
  {
   "cell_type": "code",
   "execution_count": null,
   "id": "fleet-citizenship",
   "metadata": {},
   "outputs": [],
   "source": [
    "estruct = np.zeros((nlevels, nlevels))\n",
    "ecomben = np.zeros((nlevels, nlevels))"
   ]
  },
  {
   "cell_type": "code",
   "execution_count": null,
   "id": "cardiovascular-racing",
   "metadata": {},
   "outputs": [],
   "source": [
    "for i in range(nlevels):\n",
    "    for j in range(nlevels):\n",
    "        earr = [edian[i,j], ebccn[i,j], efccn[i,j]]\n",
    "        args = np.argsort(earr)\n",
    "        estruct[i,j] = args[0]\n",
    "        ecomben[i,j] = earr[args[0]]"
   ]
  },
  {
   "cell_type": "markdown",
   "id": "accepted-lounge",
   "metadata": {},
   "source": [
    "Create a numpy meshgrid for plotting"
   ]
  },
  {
   "cell_type": "code",
   "execution_count": null,
   "id": "human-matthew",
   "metadata": {},
   "outputs": [],
   "source": [
    "bb, ll = np.meshgrid(B_range, lambda_range)"
   ]
  },
  {
   "cell_type": "markdown",
   "id": "violent-honolulu",
   "metadata": {},
   "source": [
    "Finally plot"
   ]
  },
  {
   "cell_type": "code",
   "execution_count": null,
   "id": "complete-precipitation",
   "metadata": {},
   "outputs": [],
   "source": [
    "plt.contourf(bb, ll, estruct, levels=2, \n",
    "             colors=[\"#fdc086\", \"#beaed4\", \"#7fc97f\"])\n",
    "plt.plot([], [], color=\"#fdc086\", label=\"diamond\")\n",
    "plt.plot([], [], color=\"#beaed4\", label=\"bcc\")\n",
    "plt.plot([], [], color=\"#7fc97f\", label=\"fcc\")\n",
    "\n",
    "plt.xlabel(\"$B$\", fontsize=12)\n",
    "plt.ylabel(\"$\\lambda$\", fontsize=12)\n",
    "plt.legend()"
   ]
  }
 ],
 "metadata": {
  "kernelspec": {
   "display_name": "Python 3",
   "language": "python",
   "name": "python3"
  },
  "language_info": {
   "codemirror_mode": {
    "name": "ipython",
    "version": 3
   },
   "file_extension": ".py",
   "mimetype": "text/x-python",
   "name": "python",
   "nbconvert_exporter": "python",
   "pygments_lexer": "ipython3",
   "version": "3.8.6"
  }
 },
 "nbformat": 4,
 "nbformat_minor": 5
}
